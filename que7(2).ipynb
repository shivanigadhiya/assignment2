{
 "cells": [
  {
   "cell_type": "markdown",
   "id": "0078c358-1f5a-44b0-8a66-37eec8da9462",
   "metadata": {},
   "source": [
    "In Python the = symbol assigns the value on the right to the name on the left. The variable is created when a value is assigned to it. "
   ]
  },
  {
   "cell_type": "code",
   "execution_count": 1,
   "id": "94e9d19f-3adb-401a-8948-3d1c490d3f3c",
   "metadata": {},
   "outputs": [
    {
     "name": "stdout",
     "output_type": "stream",
     "text": [
      "25\n"
     ]
    }
   ],
   "source": [
    "age = 25 #declare the variable age and assign the value to it 25\n",
    "print(age)"
   ]
  },
  {
   "cell_type": "code",
   "execution_count": null,
   "id": "b01dfaad-30a3-4dbb-bd12-efe463b65e41",
   "metadata": {},
   "outputs": [],
   "source": []
  }
 ],
 "metadata": {
  "kernelspec": {
   "display_name": "Python 3 (ipykernel)",
   "language": "python",
   "name": "python3"
  },
  "language_info": {
   "codemirror_mode": {
    "name": "ipython",
    "version": 3
   },
   "file_extension": ".py",
   "mimetype": "text/x-python",
   "name": "python",
   "nbconvert_exporter": "python",
   "pygments_lexer": "ipython3",
   "version": "3.10.8"
  }
 },
 "nbformat": 4,
 "nbformat_minor": 5
}
