{
 "cells": [
  {
   "cell_type": "code",
   "execution_count": 3,
   "id": "319cd971-88e0-4319-a5ef-6feb4389af09",
   "metadata": {},
   "outputs": [
    {
     "name": "stdout",
     "output_type": "stream",
     "text": [
      "World\n"
     ]
    }
   ],
   "source": [
    "s1 = \"Hello,World!\"\n",
    "print(s1[6:11])"
   ]
  },
  {
   "cell_type": "code",
   "execution_count": null,
   "id": "2890f706-e0af-46c6-8945-f656cdfc98f0",
   "metadata": {},
   "outputs": [],
   "source": []
  }
 ],
 "metadata": {
  "kernelspec": {
   "display_name": "Python 3 (ipykernel)",
   "language": "python",
   "name": "python3"
  },
  "language_info": {
   "codemirror_mode": {
    "name": "ipython",
    "version": 3
   },
   "file_extension": ".py",
   "mimetype": "text/x-python",
   "name": "python",
   "nbconvert_exporter": "python",
   "pygments_lexer": "ipython3",
   "version": "3.10.8"
  }
 },
 "nbformat": 4,
 "nbformat_minor": 5
}
