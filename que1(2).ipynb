{
 "cells": [
  {
   "cell_type": "markdown",
   "id": "69fd60d4-110f-43eb-8a12-fe7db5eae4d6",
   "metadata": {},
   "source": [
    "There are mainly two types of comments:1) line comment 2) block comment\n",
    "\n",
    "line comment: We can use line comments with the help of # symbol exa:# hello this is comment\n",
    "block comment: We can use block comments with the help of ''' ''' or \"\"\" \"\"\" exa: '''hello'''.\n",
    "Comments can be used to prevent execution when testing code."
   ]
  }
 ],
 "metadata": {
  "kernelspec": {
   "display_name": "Python 3 (ipykernel)",
   "language": "python",
   "name": "python3"
  },
  "language_info": {
   "codemirror_mode": {
    "name": "ipython",
    "version": 3
   },
   "file_extension": ".py",
   "mimetype": "text/x-python",
   "name": "python",
   "nbconvert_exporter": "python",
   "pygments_lexer": "ipython3",
   "version": "3.10.8"
  }
 },
 "nbformat": 4,
 "nbformat_minor": 5
}
