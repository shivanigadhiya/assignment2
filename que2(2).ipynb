{
 "cells": [
  {
   "cell_type": "markdown",
   "id": "5cf28126-e857-4cbd-856e-ebf8b815c5b1",
   "metadata": {},
   "source": [
    "A Python variable is a symbolic name that is a reference or pointer to an object."
   ]
  },
  {
   "cell_type": "code",
   "execution_count": 1,
   "id": "0fa9923f-00e5-4ea8-afcb-38c3512a23c6",
   "metadata": {},
   "outputs": [
    {
     "data": {
      "text/plain": [
       "10"
      ]
     },
     "execution_count": 1,
     "metadata": {},
     "output_type": "execute_result"
    }
   ],
   "source": [
    "a = 10 #example \n",
    "a"
   ]
  }
 ],
 "metadata": {
  "kernelspec": {
   "display_name": "Python 3 (ipykernel)",
   "language": "python",
   "name": "python3"
  },
  "language_info": {
   "codemirror_mode": {
    "name": "ipython",
    "version": 3
   },
   "file_extension": ".py",
   "mimetype": "text/x-python",
   "name": "python",
   "nbconvert_exporter": "python",
   "pygments_lexer": "ipython3",
   "version": "3.10.8"
  }
 },
 "nbformat": 4,
 "nbformat_minor": 5
}
