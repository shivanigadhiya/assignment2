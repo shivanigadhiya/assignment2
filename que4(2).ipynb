{
 "cells": [
  {
   "cell_type": "markdown",
   "id": "9a8c1014-439c-450b-a556-962fa06b8a1f",
   "metadata": {},
   "source": [
    "We need to open a command line and type the word python followed by the path to your script file like this: python first_script.py Hello World! Then you hit the ENTER button from the keyboard, and that's it"
   ]
  },
  {
   "cell_type": "code",
   "execution_count": null,
   "id": "7d31de83-b8fb-4016-826e-b13a596ecf06",
   "metadata": {},
   "outputs": [],
   "source": []
  }
 ],
 "metadata": {
  "kernelspec": {
   "display_name": "Python 3 (ipykernel)",
   "language": "python",
   "name": "python3"
  },
  "language_info": {
   "codemirror_mode": {
    "name": "ipython",
    "version": 3
   },
   "file_extension": ".py",
   "mimetype": "text/x-python",
   "name": "python",
   "nbconvert_exporter": "python",
   "pygments_lexer": "ipython3",
   "version": "3.10.8"
  }
 },
 "nbformat": 4,
 "nbformat_minor": 5
}
