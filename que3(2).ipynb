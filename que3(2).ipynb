{
 "cells": [
  {
   "cell_type": "markdown",
   "id": "7dbcf650-cb5a-4445-8490-87129bfe3a18",
   "metadata": {},
   "source": [
    "The conversion of one data type to another data type It is called \"type casting\"\n",
    "There are two types : 1) Explicit Typecasting 2) Implicit Typecasting\n",
    "1) Explicit typecasting: The conversion is done by the programmer or developer as per requirement.\n",
    "example:"
   ]
  },
  {
   "cell_type": "code",
   "execution_count": 1,
   "id": "690cb2d8-d4c9-4c43-80ff-1577b1066ec5",
   "metadata": {},
   "outputs": [
    {
     "name": "stdout",
     "output_type": "stream",
     "text": [
      "7\n"
     ]
    }
   ],
   "source": [
    "s = \"3\"\n",
    "n = 4\n",
    "print(int(s)+n)"
   ]
  },
  {
   "cell_type": "markdown",
   "id": "ef3e9f90-36e4-4cd7-8619-9d3d6dcc06aa",
   "metadata": {},
   "source": [
    "2) Implicit typecasting: According to the level,one data type is converted into other by the python interpreter itself .It's called Implicit typecasting.\n",
    "example:"
   ]
  },
  {
   "cell_type": "code",
   "execution_count": 2,
   "id": "fedc9baa-6cb7-4385-93a7-f77c5a4ad526",
   "metadata": {},
   "outputs": [
    {
     "name": "stdout",
     "output_type": "stream",
     "text": [
      "<class 'float'>\n",
      "<class 'int'>\n",
      "9.4\n",
      "<class 'float'>\n"
     ]
    }
   ],
   "source": [
    "a = 1.4\n",
    "print(type(a))\n",
    "b = 8\n",
    "print(type(b))\n",
    "c = a+b\n",
    "print(c)\n",
    "print(type(c))"
   ]
  },
  {
   "cell_type": "code",
   "execution_count": null,
   "id": "aa3d8924-1d74-4964-b251-a53670b1cc26",
   "metadata": {},
   "outputs": [],
   "source": []
  }
 ],
 "metadata": {
  "kernelspec": {
   "display_name": "Python 3 (ipykernel)",
   "language": "python",
   "name": "python3"
  },
  "language_info": {
   "codemirror_mode": {
    "name": "ipython",
    "version": 3
   },
   "file_extension": ".py",
   "mimetype": "text/x-python",
   "name": "python",
   "nbconvert_exporter": "python",
   "pygments_lexer": "ipython3",
   "version": "3.10.8"
  }
 },
 "nbformat": 4,
 "nbformat_minor": 5
}
